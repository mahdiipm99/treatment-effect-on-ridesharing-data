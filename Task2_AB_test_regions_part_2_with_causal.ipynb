{
 "cells": [
  {
   "cell_type": "code",
   "execution_count": 1,
   "metadata": {},
   "outputs": [],
   "source": [
    "import pandas as pd\n",
    "import numpy as np\n",
    "import matplotlib.pyplot as plt\n",
    "import seaborn as sns\n",
    "from scipy import stats\n",
    "sns.set_style(\"whitegrid\")\n",
    "%matplotlib inline"
   ]
  },
  {
   "cell_type": "code",
   "execution_count": 2,
   "metadata": {},
   "outputs": [],
   "source": [
    "import warnings\n",
    "warnings.filterwarnings('ignore')"
   ]
  },
  {
   "cell_type": "code",
   "execution_count": 3,
   "metadata": {},
   "outputs": [],
   "source": [
    "from causalml.inference.meta import BaseRLearner, BaseTLearner, BaseXRegressor\n",
    "from sklearn.linear_model import LinearRegression\n",
    "from xgboost import XGBRegressor"
   ]
  },
  {
   "cell_type": "code",
   "execution_count": 4,
   "metadata": {},
   "outputs": [],
   "source": [
    "regions = pd.read_csv(\"ETA_AB_Regions (1).csv\")\n",
    "ride = pd.read_csv(\"ETA_Ride (1).csv\")\n",
    "rps = pd.read_csv('ETA_RPS (1).csv')\n"
   ]
  },
  {
   "cell_type": "code",
   "execution_count": 5,
   "metadata": {},
   "outputs": [],
   "source": [
    "###### read and aggregate rps data\n",
    "rps = rps.groupby(['rideId'], as_index = False).agg({'rankTime': 'max', 'isAccept': 'sum'})\n",
    "rps.columns = ['rideId', 'numDrivers', 'driversAccept']"
   ]
  },
  {
   "cell_type": "code",
   "execution_count": 6,
   "metadata": {},
   "outputs": [],
   "source": [
    "####### merge ride data with regions\n",
    "ride = ride.merge(regions, on = 'regionId', how = 'left')"
   ]
  },
  {
   "cell_type": "code",
   "execution_count": 7,
   "metadata": {},
   "outputs": [],
   "source": [
    "df = rps.merge(ride, on = 'rideId', how = 'left')\n",
    "\n",
    "##### convert id columns to str\n",
    "df['rideId'] = df['rideId'].astype(str)\n",
    "df['regionId'] = df['regionId'].astype(str)\n",
    "\n",
    "####### convert date and compute hour of day\n",
    "df['createdAt'] = pd.to_datetime(df['createdAt'], format = \"%Y-%m-%d\")\n",
    "df['hour'] = df['createdAt'].dt.hour\n",
    "\n",
    "######## acceptance rate\n",
    "df['DriverAcceptanceRate'] = df['driversAccept'] / df['numDrivers']"
   ]
  },
  {
   "cell_type": "code",
   "execution_count": 8,
   "metadata": {},
   "outputs": [
    {
     "data": {
      "text/html": [
       "<div>\n",
       "<style scoped>\n",
       "    .dataframe tbody tr th:only-of-type {\n",
       "        vertical-align: middle;\n",
       "    }\n",
       "\n",
       "    .dataframe tbody tr th {\n",
       "        vertical-align: top;\n",
       "    }\n",
       "\n",
       "    .dataframe thead th {\n",
       "        text-align: right;\n",
       "    }\n",
       "</style>\n",
       "<table border=\"1\" class=\"dataframe\">\n",
       "  <thead>\n",
       "    <tr style=\"text-align: right;\">\n",
       "      <th></th>\n",
       "      <th>rideId</th>\n",
       "      <th>numDrivers</th>\n",
       "      <th>driversAccept</th>\n",
       "      <th>createdAt</th>\n",
       "      <th>isAssigned</th>\n",
       "      <th>price</th>\n",
       "      <th>regionId</th>\n",
       "      <th>isTreatment</th>\n",
       "      <th>hour</th>\n",
       "      <th>DriverAcceptanceRate</th>\n",
       "    </tr>\n",
       "  </thead>\n",
       "  <tbody>\n",
       "    <tr>\n",
       "      <th>0</th>\n",
       "      <td>4</td>\n",
       "      <td>1</td>\n",
       "      <td>0</td>\n",
       "      <td>2020-10-04 07:43:56.560000+03:30</td>\n",
       "      <td>0.0</td>\n",
       "      <td>88000.0</td>\n",
       "      <td>770</td>\n",
       "      <td>0</td>\n",
       "      <td>7</td>\n",
       "      <td>0.0</td>\n",
       "    </tr>\n",
       "    <tr>\n",
       "      <th>1</th>\n",
       "      <td>6</td>\n",
       "      <td>1</td>\n",
       "      <td>1</td>\n",
       "      <td>2020-10-04 07:54:09.933000+03:30</td>\n",
       "      <td>1.0</td>\n",
       "      <td>89000.0</td>\n",
       "      <td>770</td>\n",
       "      <td>0</td>\n",
       "      <td>7</td>\n",
       "      <td>1.0</td>\n",
       "    </tr>\n",
       "    <tr>\n",
       "      <th>2</th>\n",
       "      <td>8</td>\n",
       "      <td>1</td>\n",
       "      <td>0</td>\n",
       "      <td>2020-10-04 07:41:12.633000+03:30</td>\n",
       "      <td>0.0</td>\n",
       "      <td>88000.0</td>\n",
       "      <td>770</td>\n",
       "      <td>0</td>\n",
       "      <td>7</td>\n",
       "      <td>0.0</td>\n",
       "    </tr>\n",
       "    <tr>\n",
       "      <th>3</th>\n",
       "      <td>10</td>\n",
       "      <td>3</td>\n",
       "      <td>0</td>\n",
       "      <td>2020-10-04 11:10:04.083000+03:30</td>\n",
       "      <td>0.0</td>\n",
       "      <td>6500.0</td>\n",
       "      <td>771</td>\n",
       "      <td>0</td>\n",
       "      <td>11</td>\n",
       "      <td>0.0</td>\n",
       "    </tr>\n",
       "    <tr>\n",
       "      <th>4</th>\n",
       "      <td>11</td>\n",
       "      <td>1</td>\n",
       "      <td>0</td>\n",
       "      <td>2020-10-04 16:14:22.557000+03:30</td>\n",
       "      <td>0.0</td>\n",
       "      <td>63000.0</td>\n",
       "      <td>771</td>\n",
       "      <td>0</td>\n",
       "      <td>16</td>\n",
       "      <td>0.0</td>\n",
       "    </tr>\n",
       "  </tbody>\n",
       "</table>\n",
       "</div>"
      ],
      "text/plain": [
       "  rideId  numDrivers  driversAccept                        createdAt  \\\n",
       "0      4           1              0 2020-10-04 07:43:56.560000+03:30   \n",
       "1      6           1              1 2020-10-04 07:54:09.933000+03:30   \n",
       "2      8           1              0 2020-10-04 07:41:12.633000+03:30   \n",
       "3     10           3              0 2020-10-04 11:10:04.083000+03:30   \n",
       "4     11           1              0 2020-10-04 16:14:22.557000+03:30   \n",
       "\n",
       "   isAssigned    price regionId  isTreatment  hour  DriverAcceptanceRate  \n",
       "0         0.0  88000.0      770            0     7                   0.0  \n",
       "1         1.0  89000.0      770            0     7                   1.0  \n",
       "2         0.0  88000.0      770            0     7                   0.0  \n",
       "3         0.0   6500.0      771            0    11                   0.0  \n",
       "4         0.0  63000.0      771            0    16                   0.0  "
      ]
     },
     "execution_count": 8,
     "metadata": {},
     "output_type": "execute_result"
    }
   ],
   "source": [
    "df.head()"
   ]
  },
  {
   "cell_type": "markdown",
   "metadata": {},
   "source": [
    "# ATE and CATE by Causal Inference\n",
    "\n",
    "### ATE\n",
    "The average treatment effect (ATE) is a measure used to compare treatments (or interventions) in randomized experiments. The ATE measures the difference in mean (average) outcomes between units assigned to the treatment and units assigned to the control.\n",
    "\n",
    "\n",
    "### CATE\n",
    "\n",
    "to better understanding of  effect of a treatment, we divide the study data into subgroups (e.g., hour of ride request, ...), and see if the average treatment effects are different by subgroup. A per-subgroup ATE is called a \"conditional average treatment effect\" (CATE), i.e. the ATE conditioned on membership in the subgroup."
   ]
  },
  {
   "cell_type": "markdown",
   "metadata": {},
   "source": [
    "## 1) Causal inference on Driver Acceptance rate"
   ]
  },
  {
   "cell_type": "code",
   "execution_count": 9,
   "metadata": {},
   "outputs": [],
   "source": [
    "acceptance = df[['isTreatment', 'hour', 'DriverAcceptanceRate']].copy()\n",
    "#acceptance['price_range'] = pd.qcut(acceptance['price'], q = 4, labels = [1,2,3,4])"
   ]
  },
  {
   "cell_type": "code",
   "execution_count": 10,
   "metadata": {},
   "outputs": [
    {
     "data": {
      "text/html": [
       "<div>\n",
       "<style scoped>\n",
       "    .dataframe tbody tr th:only-of-type {\n",
       "        vertical-align: middle;\n",
       "    }\n",
       "\n",
       "    .dataframe tbody tr th {\n",
       "        vertical-align: top;\n",
       "    }\n",
       "\n",
       "    .dataframe thead th {\n",
       "        text-align: right;\n",
       "    }\n",
       "</style>\n",
       "<table border=\"1\" class=\"dataframe\">\n",
       "  <thead>\n",
       "    <tr style=\"text-align: right;\">\n",
       "      <th></th>\n",
       "      <th>isTreatment</th>\n",
       "      <th>hour</th>\n",
       "      <th>DriverAcceptanceRate</th>\n",
       "    </tr>\n",
       "  </thead>\n",
       "  <tbody>\n",
       "    <tr>\n",
       "      <th>0</th>\n",
       "      <td>0</td>\n",
       "      <td>7</td>\n",
       "      <td>0.0</td>\n",
       "    </tr>\n",
       "    <tr>\n",
       "      <th>1</th>\n",
       "      <td>0</td>\n",
       "      <td>7</td>\n",
       "      <td>1.0</td>\n",
       "    </tr>\n",
       "    <tr>\n",
       "      <th>2</th>\n",
       "      <td>0</td>\n",
       "      <td>7</td>\n",
       "      <td>0.0</td>\n",
       "    </tr>\n",
       "    <tr>\n",
       "      <th>3</th>\n",
       "      <td>0</td>\n",
       "      <td>11</td>\n",
       "      <td>0.0</td>\n",
       "    </tr>\n",
       "    <tr>\n",
       "      <th>4</th>\n",
       "      <td>0</td>\n",
       "      <td>16</td>\n",
       "      <td>0.0</td>\n",
       "    </tr>\n",
       "    <tr>\n",
       "      <th>...</th>\n",
       "      <td>...</td>\n",
       "      <td>...</td>\n",
       "      <td>...</td>\n",
       "    </tr>\n",
       "    <tr>\n",
       "      <th>55551</th>\n",
       "      <td>1</td>\n",
       "      <td>18</td>\n",
       "      <td>1.0</td>\n",
       "    </tr>\n",
       "    <tr>\n",
       "      <th>55552</th>\n",
       "      <td>1</td>\n",
       "      <td>10</td>\n",
       "      <td>1.0</td>\n",
       "    </tr>\n",
       "    <tr>\n",
       "      <th>55553</th>\n",
       "      <td>1</td>\n",
       "      <td>12</td>\n",
       "      <td>1.0</td>\n",
       "    </tr>\n",
       "    <tr>\n",
       "      <th>55554</th>\n",
       "      <td>1</td>\n",
       "      <td>9</td>\n",
       "      <td>1.0</td>\n",
       "    </tr>\n",
       "    <tr>\n",
       "      <th>55555</th>\n",
       "      <td>1</td>\n",
       "      <td>19</td>\n",
       "      <td>1.0</td>\n",
       "    </tr>\n",
       "  </tbody>\n",
       "</table>\n",
       "<p>55556 rows × 3 columns</p>\n",
       "</div>"
      ],
      "text/plain": [
       "       isTreatment  hour  DriverAcceptanceRate\n",
       "0                0     7                   0.0\n",
       "1                0     7                   1.0\n",
       "2                0     7                   0.0\n",
       "3                0    11                   0.0\n",
       "4                0    16                   0.0\n",
       "...            ...   ...                   ...\n",
       "55551            1    18                   1.0\n",
       "55552            1    10                   1.0\n",
       "55553            1    12                   1.0\n",
       "55554            1     9                   1.0\n",
       "55555            1    19                   1.0\n",
       "\n",
       "[55556 rows x 3 columns]"
      ]
     },
     "execution_count": 10,
     "metadata": {},
     "output_type": "execute_result"
    }
   ],
   "source": [
    "acceptance"
   ]
  },
  {
   "cell_type": "code",
   "execution_count": 11,
   "metadata": {},
   "outputs": [],
   "source": [
    "learn_r = BaseRLearner(learner=XGBRegressor())"
   ]
  },
  {
   "cell_type": "markdown",
   "metadata": {},
   "source": [
    "### 1-1) Acceptance rate ATE "
   ]
  },
  {
   "cell_type": "code",
   "execution_count": 12,
   "metadata": {},
   "outputs": [
    {
     "name": "stdout",
     "output_type": "stream",
     "text": [
      "ATE for driver acceptance rate using R-Learner:  0.0006683147074173916\n"
     ]
    }
   ],
   "source": [
    "ate, ate_lower, ate_upper = learn_r.estimate_ate(X = acceptance[['hour']],\n",
    "                     treatment=acceptance['isTreatment'],\n",
    "                     y = acceptance['DriverAcceptanceRate'])\n",
    "\n",
    "print(\"ATE for driver acceptance rate using R-Learner: \",ate[0])"
   ]
  },
  {
   "cell_type": "markdown",
   "metadata": {},
   "source": [
    "ATE is difference beteween mean of treatment group and mean of control group, which shows that treatment group mean in acceptance rate is 0.000619661153345577 higher."
   ]
  },
  {
   "cell_type": "markdown",
   "metadata": {},
   "source": [
    "### 1-2) Acceptance Rate CATE\n",
    "\n",
    "we divide data by hours of rides to evaluate ATE in subgroups (hours.)"
   ]
  },
  {
   "cell_type": "code",
   "execution_count": 13,
   "metadata": {},
   "outputs": [],
   "source": [
    "cate = learn_r.fit_predict(X = acceptance['hour'].values.reshape(-1,1),\n",
    "                     treatment=acceptance['isTreatment'],\n",
    "                     y = acceptance['DriverAcceptanceRate'])\n",
    "\n",
    "acceptance['CATE'] = cate"
   ]
  },
  {
   "cell_type": "code",
   "execution_count": 14,
   "metadata": {},
   "outputs": [
    {
     "data": {
      "text/plain": [
       "<matplotlib.axes._subplots.AxesSubplot at 0x226914475e0>"
      ]
     },
     "execution_count": 14,
     "metadata": {},
     "output_type": "execute_result"
    },
    {
     "data": {
      "image/png": "[encoded data removed]",
      "text/plain": [
       "<Figure size 432x288 with 1 Axes>"
      ]
     },
     "metadata": {},
     "output_type": "display_data"
    }
   ],
   "source": [
    "acceptance.groupby(['hour'])['CATE'].mean().plot(kind = 'bar')"
   ]
  },
  {
   "cell_type": "markdown",
   "metadata": {},
   "source": [
    "## 2) causal inference in Price\n",
    "\n",
    "### 2-1) ATE on Price"
   ]
  },
  {
   "cell_type": "code",
   "execution_count": 15,
   "metadata": {},
   "outputs": [],
   "source": [
    "price = df[['isTreatment', 'hour', 'price']].copy()\n"
   ]
  },
  {
   "cell_type": "code",
   "execution_count": 16,
   "metadata": {},
   "outputs": [
    {
     "name": "stdout",
     "output_type": "stream",
     "text": [
      "ATE for Price using R-Learner:  -1342.4000804843652\n"
     ]
    }
   ],
   "source": [
    "learn_r = BaseRLearner(learner=XGBRegressor())\n",
    "\n",
    "ate, ate_lower, ate_upper = learn_r.estimate_ate(X = price[['hour']],\n",
    "                     treatment=price['isTreatment'],\n",
    "                     y = price['price'])\n",
    "\n",
    "print(\"ATE for Price using R-Learner: \",ate[0])"
   ]
  },
  {
   "cell_type": "markdown",
   "metadata": {},
   "source": [
    "difference between mean of price in treatmen group and mean of price in control group is -1343"
   ]
  },
  {
   "cell_type": "markdown",
   "metadata": {},
   "source": [
    "### 2-2) CATE on price"
   ]
  },
  {
   "cell_type": "code",
   "execution_count": 17,
   "metadata": {},
   "outputs": [],
   "source": [
    "cate = learn_r.fit_predict(X = price[['hour']],\n",
    "                     treatment=price['isTreatment'],\n",
    "                     y = price['price'])\n",
    "\n",
    "price['CATE'] = cate"
   ]
  },
  {
   "cell_type": "code",
   "execution_count": 18,
   "metadata": {},
   "outputs": [
    {
     "data": {
      "text/plain": [
       "Text(0, 0.5, 'Price CATE')"
      ]
     },
     "execution_count": 18,
     "metadata": {},
     "output_type": "execute_result"
    },
    {
     "data": {
      "image/png": "[encoded data removed]",
      "text/plain": [
       "<Figure size 432x288 with 1 Axes>"
      ]
     },
     "metadata": {},
     "output_type": "display_data"
    }
   ],
   "source": [
    "price.groupby(['hour'])['CATE'].mean().plot(kind = 'bar')\n",
    "plt.ylabel('Price CATE')"
   ]
  },
  {
   "cell_type": "markdown",
   "metadata": {},
   "source": [
    "## 3) Different Learners\n",
    "in this section i will use group of learners to estimate treatment effect on price"
   ]
  },
  {
   "cell_type": "code",
   "execution_count": 19,
   "metadata": {},
   "outputs": [
    {
     "name": "stdout",
     "output_type": "stream",
     "text": [
      "R-learner\n",
      "S-learner\n",
      "T-learner\n",
      "X-learner\n"
     ]
    }
   ],
   "source": [
    "from causalml.inference.meta import BaseRLearner, BaseSLearner, BaseTLearner, BaseXLearner\n",
    "\n",
    "price = df[['isTreatment', 'hour', 'price']].copy()\n",
    "\n",
    "\n",
    "learners = [('R-learner', BaseRLearner(learner=XGBRegressor())),\n",
    "           ('S-learner', BaseSLearner(learner=XGBRegressor())),\n",
    "           ('T-learner', BaseTLearner(learner=XGBRegressor())),\n",
    "           ('X-learner', BaseXLearner(learner=XGBRegressor()))]\n",
    "\n",
    "for learner_name, learner in learners:\n",
    "    print(learner_name)\n",
    "    cate = learner.fit_predict(X = price[['hour']],\n",
    "                     treatment=price['isTreatment'],\n",
    "                     y = price['price'])\n",
    "    price[learner_name] = cate"
   ]
  },
  {
   "cell_type": "code",
   "execution_count": 20,
   "metadata": {},
   "outputs": [
    {
     "data": {
      "image/png": "[encoded data removed]",
      "text/plain": [
       "<Figure size 864x576 with 1 Axes>"
      ]
     },
     "metadata": {},
     "output_type": "display_data"
    }
   ],
   "source": [
    "price_cate = pd.melt(price.groupby(['hour'], as_index = False)[[i[0] for i in learners]].mean(), id_vars='hour',\n",
    "                    var_name='learner', value_name='CATE')\n",
    "\n",
    "\n",
    "plt.figure(figsize = (12,8))\n",
    "sns.barplot(x = 'hour', y = 'CATE', hue = 'learner', data = price_cate)\n",
    "plt.show()"
   ]
  },
  {
   "cell_type": "markdown",
   "metadata": {},
   "source": [
    "as shown in plot above, for many hours difference between mean of price in treatment and control is negative, which means for most hours on average, treatment group has lower price."
   ]
  },
  {
   "cell_type": "markdown",
   "metadata": {},
   "source": [
    "now I will use same approach for driver acceptance rate."
   ]
  },
  {
   "cell_type": "code",
   "execution_count": 21,
   "metadata": {},
   "outputs": [
    {
     "name": "stdout",
     "output_type": "stream",
     "text": [
      "R-learner\n",
      "S-learner\n",
      "T-learner\n",
      "X-learner\n"
     ]
    }
   ],
   "source": [
    "acceptance = df[['isTreatment', 'hour', 'DriverAcceptanceRate']].copy()\n",
    "\n",
    "\n",
    "learners = [('R-learner', BaseRLearner(learner=XGBRegressor())),\n",
    "           ('S-learner', BaseSLearner(learner=XGBRegressor())),\n",
    "           ('T-learner', BaseTLearner(learner=XGBRegressor())),\n",
    "           ('X-learner', BaseXLearner(learner=XGBRegressor()))]\n",
    "\n",
    "for learner_name, learner in learners:\n",
    "    print(learner_name)\n",
    "    cate = learner.fit_predict(X = acceptance[['hour']],\n",
    "                     treatment=acceptance['isTreatment'],\n",
    "                     y = acceptance['DriverAcceptanceRate'])\n",
    "    acceptance[learner_name] = cate"
   ]
  },
  {
   "cell_type": "code",
   "execution_count": 22,
   "metadata": {},
   "outputs": [
    {
     "data": {
      "image/png": "[encoded data removed]",
      "text/plain": [
       "<Figure size 1008x576 with 1 Axes>"
      ]
     },
     "metadata": {},
     "output_type": "display_data"
    }
   ],
   "source": [
    "acceptance_cate = pd.melt(acceptance.groupby(['hour'], as_index = False)[[i[0] for i in learners]].mean(), id_vars='hour',\n",
    "                    var_name='learner', value_name='CATE')\n",
    "\n",
    "\n",
    "plt.figure(figsize = (14,8))\n",
    "sns.barplot(x = 'hour', y = 'CATE', hue = 'learner', data = acceptance_cate)\n",
    "plt.legend(loc = 2)\n",
    "plt.show()"
   ]
  },
  {
   "cell_type": "markdown",
   "metadata": {},
   "source": [
    "as computed above Total ATE for driver acceptance rate was +0.00062 which is a low number. but if we divide data into subgroups and compute CATEs per groups we could see larger differences in means of accteptance rate between groups.\n",
    "\n",
    "for example for evening time (between 16 and 19) treatment group has higher acceptance rate mean than control group but in the morning (8 to 11) treament has lower acceptance rate mean.\n",
    "\n",
    "for hour 18 as shown in table below, acceptance rate mean of treatment group is 0.068 higher than control group."
   ]
  },
  {
   "cell_type": "code",
   "execution_count": 23,
   "metadata": {},
   "outputs": [
    {
     "data": {
      "text/html": [
       "<div>\n",
       "<style scoped>\n",
       "    .dataframe tbody tr th:only-of-type {\n",
       "        vertical-align: middle;\n",
       "    }\n",
       "\n",
       "    .dataframe tbody tr th {\n",
       "        vertical-align: top;\n",
       "    }\n",
       "\n",
       "    .dataframe thead th {\n",
       "        text-align: right;\n",
       "    }\n",
       "</style>\n",
       "<table border=\"1\" class=\"dataframe\">\n",
       "  <thead>\n",
       "    <tr style=\"text-align: right;\">\n",
       "      <th></th>\n",
       "      <th>R-learner</th>\n",
       "      <th>S-learner</th>\n",
       "      <th>T-learner</th>\n",
       "      <th>X-learner</th>\n",
       "    </tr>\n",
       "    <tr>\n",
       "      <th>hour</th>\n",
       "      <th></th>\n",
       "      <th></th>\n",
       "      <th></th>\n",
       "      <th></th>\n",
       "    </tr>\n",
       "  </thead>\n",
       "  <tbody>\n",
       "    <tr>\n",
       "      <th>0</th>\n",
       "      <td>0.004636</td>\n",
       "      <td>0.004648</td>\n",
       "      <td>0.004654</td>\n",
       "      <td>0.004664</td>\n",
       "    </tr>\n",
       "    <tr>\n",
       "      <th>1</th>\n",
       "      <td>0.027902</td>\n",
       "      <td>0.027019</td>\n",
       "      <td>0.027072</td>\n",
       "      <td>0.027047</td>\n",
       "    </tr>\n",
       "    <tr>\n",
       "      <th>2</th>\n",
       "      <td>-0.083243</td>\n",
       "      <td>-0.084180</td>\n",
       "      <td>-0.084198</td>\n",
       "      <td>-0.084205</td>\n",
       "    </tr>\n",
       "    <tr>\n",
       "      <th>3</th>\n",
       "      <td>-0.195018</td>\n",
       "      <td>-0.188434</td>\n",
       "      <td>-0.188806</td>\n",
       "      <td>-0.188546</td>\n",
       "    </tr>\n",
       "    <tr>\n",
       "      <th>4</th>\n",
       "      <td>-0.022065</td>\n",
       "      <td>-0.020555</td>\n",
       "      <td>-0.020350</td>\n",
       "      <td>-0.020539</td>\n",
       "    </tr>\n",
       "    <tr>\n",
       "      <th>5</th>\n",
       "      <td>-0.054413</td>\n",
       "      <td>-0.054101</td>\n",
       "      <td>-0.054225</td>\n",
       "      <td>-0.054098</td>\n",
       "    </tr>\n",
       "    <tr>\n",
       "      <th>6</th>\n",
       "      <td>-0.024455</td>\n",
       "      <td>-0.024550</td>\n",
       "      <td>-0.024557</td>\n",
       "      <td>-0.024572</td>\n",
       "    </tr>\n",
       "    <tr>\n",
       "      <th>7</th>\n",
       "      <td>-0.009055</td>\n",
       "      <td>-0.009488</td>\n",
       "      <td>-0.009488</td>\n",
       "      <td>-0.009467</td>\n",
       "    </tr>\n",
       "    <tr>\n",
       "      <th>8</th>\n",
       "      <td>0.029651</td>\n",
       "      <td>0.029069</td>\n",
       "      <td>0.029348</td>\n",
       "      <td>0.029328</td>\n",
       "    </tr>\n",
       "    <tr>\n",
       "      <th>9</th>\n",
       "      <td>-0.018372</td>\n",
       "      <td>-0.017349</td>\n",
       "      <td>-0.018243</td>\n",
       "      <td>-0.018230</td>\n",
       "    </tr>\n",
       "    <tr>\n",
       "      <th>10</th>\n",
       "      <td>-0.008371</td>\n",
       "      <td>-0.008781</td>\n",
       "      <td>-0.008483</td>\n",
       "      <td>-0.008506</td>\n",
       "    </tr>\n",
       "    <tr>\n",
       "      <th>11</th>\n",
       "      <td>-0.018399</td>\n",
       "      <td>-0.018642</td>\n",
       "      <td>-0.018390</td>\n",
       "      <td>-0.018361</td>\n",
       "    </tr>\n",
       "    <tr>\n",
       "      <th>12</th>\n",
       "      <td>-0.008355</td>\n",
       "      <td>-0.008388</td>\n",
       "      <td>-0.008330</td>\n",
       "      <td>-0.008333</td>\n",
       "    </tr>\n",
       "    <tr>\n",
       "      <th>13</th>\n",
       "      <td>-0.006780</td>\n",
       "      <td>-0.006644</td>\n",
       "      <td>-0.006572</td>\n",
       "      <td>-0.006591</td>\n",
       "    </tr>\n",
       "    <tr>\n",
       "      <th>14</th>\n",
       "      <td>-0.038632</td>\n",
       "      <td>-0.038603</td>\n",
       "      <td>-0.038642</td>\n",
       "      <td>-0.038628</td>\n",
       "    </tr>\n",
       "    <tr>\n",
       "      <th>15</th>\n",
       "      <td>-0.031649</td>\n",
       "      <td>-0.031550</td>\n",
       "      <td>-0.031696</td>\n",
       "      <td>-0.031701</td>\n",
       "    </tr>\n",
       "    <tr>\n",
       "      <th>16</th>\n",
       "      <td>0.029475</td>\n",
       "      <td>0.029120</td>\n",
       "      <td>0.029360</td>\n",
       "      <td>0.029368</td>\n",
       "    </tr>\n",
       "    <tr>\n",
       "      <th>17</th>\n",
       "      <td>0.037188</td>\n",
       "      <td>0.037407</td>\n",
       "      <td>0.037232</td>\n",
       "      <td>0.037228</td>\n",
       "    </tr>\n",
       "    <tr>\n",
       "      <th>18</th>\n",
       "      <td>0.068150</td>\n",
       "      <td>0.068073</td>\n",
       "      <td>0.068177</td>\n",
       "      <td>0.068161</td>\n",
       "    </tr>\n",
       "    <tr>\n",
       "      <th>19</th>\n",
       "      <td>0.015159</td>\n",
       "      <td>0.015131</td>\n",
       "      <td>0.015096</td>\n",
       "      <td>0.015077</td>\n",
       "    </tr>\n",
       "    <tr>\n",
       "      <th>20</th>\n",
       "      <td>-0.003324</td>\n",
       "      <td>-0.003211</td>\n",
       "      <td>-0.003075</td>\n",
       "      <td>-0.003071</td>\n",
       "    </tr>\n",
       "    <tr>\n",
       "      <th>21</th>\n",
       "      <td>-0.033376</td>\n",
       "      <td>-0.033670</td>\n",
       "      <td>-0.033804</td>\n",
       "      <td>-0.033785</td>\n",
       "    </tr>\n",
       "    <tr>\n",
       "      <th>22</th>\n",
       "      <td>0.028341</td>\n",
       "      <td>0.027917</td>\n",
       "      <td>0.027928</td>\n",
       "      <td>0.027925</td>\n",
       "    </tr>\n",
       "    <tr>\n",
       "      <th>23</th>\n",
       "      <td>-0.005367</td>\n",
       "      <td>-0.005404</td>\n",
       "      <td>-0.005381</td>\n",
       "      <td>-0.005381</td>\n",
       "    </tr>\n",
       "  </tbody>\n",
       "</table>\n",
       "</div>"
      ],
      "text/plain": [
       "      R-learner  S-learner  T-learner  X-learner\n",
       "hour                                            \n",
       "0      0.004636   0.004648   0.004654   0.004664\n",
       "1      0.027902   0.027019   0.027072   0.027047\n",
       "2     -0.083243  -0.084180  -0.084198  -0.084205\n",
       "3     -0.195018  -0.188434  -0.188806  -0.188546\n",
       "4     -0.022065  -0.020555  -0.020350  -0.020539\n",
       "5     -0.054413  -0.054101  -0.054225  -0.054098\n",
       "6     -0.024455  -0.024550  -0.024557  -0.024572\n",
       "7     -0.009055  -0.009488  -0.009488  -0.009467\n",
       "8      0.029651   0.029069   0.029348   0.029328\n",
       "9     -0.018372  -0.017349  -0.018243  -0.018230\n",
       "10    -0.008371  -0.008781  -0.008483  -0.008506\n",
       "11    -0.018399  -0.018642  -0.018390  -0.018361\n",
       "12    -0.008355  -0.008388  -0.008330  -0.008333\n",
       "13    -0.006780  -0.006644  -0.006572  -0.006591\n",
       "14    -0.038632  -0.038603  -0.038642  -0.038628\n",
       "15    -0.031649  -0.031550  -0.031696  -0.031701\n",
       "16     0.029475   0.029120   0.029360   0.029368\n",
       "17     0.037188   0.037407   0.037232   0.037228\n",
       "18     0.068150   0.068073   0.068177   0.068161\n",
       "19     0.015159   0.015131   0.015096   0.015077\n",
       "20    -0.003324  -0.003211  -0.003075  -0.003071\n",
       "21    -0.033376  -0.033670  -0.033804  -0.033785\n",
       "22     0.028341   0.027917   0.027928   0.027925\n",
       "23    -0.005367  -0.005404  -0.005381  -0.005381"
      ]
     },
     "execution_count": 23,
     "metadata": {},
     "output_type": "execute_result"
    }
   ],
   "source": [
    "acceptance.groupby(['hour'])[[i[0] for i in learners]].mean()"
   ]
  },
  {
   "cell_type": "markdown",
   "metadata": {},
   "source": [
    "### Plot CATEs against Total income"
   ]
  },
  {
   "cell_type": "code",
   "execution_count": 53,
   "metadata": {},
   "outputs": [],
   "source": [
    "income = df[['isTreatment', 'isAssigned', 'price', 'hour']].copy()\n",
    "\n",
    "#### only select assigned rides to compute income\n",
    "income = income[income['isAssigned'] == 1]\n",
    "\n",
    "###### sum prices for each hour per groups\n",
    "income = income.groupby(['isTreatment','hour'], as_index = False).agg({'price': 'sum'})\n",
    "income.rename(columns = {'price': 'Total Income'}, inplace = True)\n",
    "\n",
    "###### from CATEs computed above I will use X-learner for plotting\n",
    "price_cates = price.groupby(['hour'],as_index = False).agg({'X-learner':'mean'})\n",
    "price_cates.rename(columns = {'X-learner': 'AvgPriceDiff'}, inplace = True)"
   ]
  },
  {
   "cell_type": "code",
   "execution_count": 55,
   "metadata": {},
   "outputs": [
    {
     "data": {
      "text/plain": [
       "<matplotlib.axes._subplots.AxesSubplot at 0x22692f35340>"
      ]
     },
     "execution_count": 55,
     "metadata": {},
     "output_type": "execute_result"
    },
    {
     "data": {
      "image/png": "[encoded data removed]",
      "text/plain": [
       "<Figure size 576x576 with 2 Axes>"
      ]
     },
     "metadata": {},
     "output_type": "display_data"
    }
   ],
   "source": [
    "fig, ax = plt.subplots(2, figsize = (8,8))\n",
    "sns.lineplot(x = 'hour', y = 'Total Income', hue = 'isTreatment', data = income, ax = ax[0])\n",
    "sns.barplot(x = 'hour', y = 'AvgPriceDiff', data = price_cates, ax = ax[1])"
   ]
  },
  {
   "cell_type": "markdown",
   "metadata": {},
   "source": [
    "plot above shows that while treatment group average price is less than control group mean for most of the hours, but total income (sum of prices from successful rides) in treatment group is more than control group for most of the hours. \n",
    "\n",
    "below is total income from treatment and control group and shows better income from treatment group. treatment group has caused 11% higher income in comparison to control group."
   ]
  },
  {
   "cell_type": "code",
   "execution_count": 57,
   "metadata": {},
   "outputs": [
    {
     "data": {
      "text/plain": [
       "isTreatment\n",
       "0    422113500.0\n",
       "1    468824500.0\n",
       "Name: Total Income, dtype: float64"
      ]
     },
     "execution_count": 57,
     "metadata": {},
     "output_type": "execute_result"
    }
   ],
   "source": [
    "income.groupby(['isTreatment'])['Total Income'].sum()"
   ]
  },
  {
   "cell_type": "code",
   "execution_count": 65,
   "metadata": {},
   "outputs": [
    {
     "name": "stdout",
     "output_type": "stream",
     "text": [
      "difference in total income between treatment and control:  11 %\n"
     ]
    }
   ],
   "source": [
    "print('difference in total income between treatment and control: ', round(100 * (468824500.0 - 422113500.0) / 422113500.0),'%')"
   ]
  },
  {
   "cell_type": "code",
   "execution_count": 70,
   "metadata": {},
   "outputs": [],
   "source": [
    "###### plot income difference (in %) per hour\n",
    "income_pivoted = pd.pivot_table(income,index = 'hour', columns = ['isTreatment'], values = ['Total Income'])\n",
    "income_pivoted['IncomeDiff%'] = 100 * (income_pivoted[('Total Income', 1)] - income_pivoted[('Total Income', 0)]) / income_pivoted[('Total Income', 0)]"
   ]
  },
  {
   "cell_type": "code",
   "execution_count": 75,
   "metadata": {},
   "outputs": [
    {
     "data": {
      "text/plain": [
       "Text(0, 0.5, 'Income Difference %')"
      ]
     },
     "execution_count": 75,
     "metadata": {},
     "output_type": "execute_result"
    },
    {
     "data": {
      "image/png": "[encoded data removed]",
      "text/plain": [
       "<Figure size 432x288 with 1 Axes>"
      ]
     },
     "metadata": {},
     "output_type": "display_data"
    }
   ],
   "source": [
    "income_pivoted['IncomeDiff%'].plot(kind = 'bar')\n",
    "plt.ylabel(\"Income Difference %\")"
   ]
  },
  {
   "cell_type": "markdown",
   "metadata": {},
   "source": [
    "during first hours of the day (0 to 6) treatment groups has lower income but for most of busy hours (7 to 20), it's obvious that treatment group caused increase in income and total income of day was 11% higher from treatment group."
   ]
  },
  {
   "cell_type": "code",
   "execution_count": 78,
   "metadata": {},
   "outputs": [
    {
     "data": {
      "text/html": [
       "<div>\n",
       "<style scoped>\n",
       "    .dataframe tbody tr th:only-of-type {\n",
       "        vertical-align: middle;\n",
       "    }\n",
       "\n",
       "    .dataframe tbody tr th {\n",
       "        vertical-align: top;\n",
       "    }\n",
       "\n",
       "    .dataframe thead tr th {\n",
       "        text-align: left;\n",
       "    }\n",
       "\n",
       "    .dataframe thead tr:last-of-type th {\n",
       "        text-align: right;\n",
       "    }\n",
       "</style>\n",
       "<table border=\"1\" class=\"dataframe\">\n",
       "  <thead>\n",
       "    <tr>\n",
       "      <th></th>\n",
       "      <th colspan=\"2\" halign=\"left\">Total Income</th>\n",
       "      <th>IncomeDiff%</th>\n",
       "    </tr>\n",
       "    <tr>\n",
       "      <th>isTreatment</th>\n",
       "      <th>0</th>\n",
       "      <th>1</th>\n",
       "      <th></th>\n",
       "    </tr>\n",
       "    <tr>\n",
       "      <th>hour</th>\n",
       "      <th></th>\n",
       "      <th></th>\n",
       "      <th></th>\n",
       "    </tr>\n",
       "  </thead>\n",
       "  <tbody>\n",
       "    <tr>\n",
       "      <th>0</th>\n",
       "      <td>7337000.0</td>\n",
       "      <td>6781500.0</td>\n",
       "      <td>-7.571214</td>\n",
       "    </tr>\n",
       "    <tr>\n",
       "      <th>1</th>\n",
       "      <td>2855500.0</td>\n",
       "      <td>2607000.0</td>\n",
       "      <td>-8.702504</td>\n",
       "    </tr>\n",
       "    <tr>\n",
       "      <th>2</th>\n",
       "      <td>1449000.0</td>\n",
       "      <td>856500.0</td>\n",
       "      <td>-40.890269</td>\n",
       "    </tr>\n",
       "    <tr>\n",
       "      <th>3</th>\n",
       "      <td>990000.0</td>\n",
       "      <td>368000.0</td>\n",
       "      <td>-62.828283</td>\n",
       "    </tr>\n",
       "    <tr>\n",
       "      <th>4</th>\n",
       "      <td>767000.0</td>\n",
       "      <td>582500.0</td>\n",
       "      <td>-24.054759</td>\n",
       "    </tr>\n",
       "    <tr>\n",
       "      <th>5</th>\n",
       "      <td>3029500.0</td>\n",
       "      <td>2266000.0</td>\n",
       "      <td>-25.202179</td>\n",
       "    </tr>\n",
       "    <tr>\n",
       "      <th>6</th>\n",
       "      <td>13336500.0</td>\n",
       "      <td>13686000.0</td>\n",
       "      <td>2.620628</td>\n",
       "    </tr>\n",
       "    <tr>\n",
       "      <th>7</th>\n",
       "      <td>24738000.0</td>\n",
       "      <td>29481000.0</td>\n",
       "      <td>19.172932</td>\n",
       "    </tr>\n",
       "    <tr>\n",
       "      <th>8</th>\n",
       "      <td>29497000.0</td>\n",
       "      <td>31749500.0</td>\n",
       "      <td>7.636370</td>\n",
       "    </tr>\n",
       "    <tr>\n",
       "      <th>9</th>\n",
       "      <td>28865000.0</td>\n",
       "      <td>30368000.0</td>\n",
       "      <td>5.206998</td>\n",
       "    </tr>\n",
       "    <tr>\n",
       "      <th>10</th>\n",
       "      <td>26059500.0</td>\n",
       "      <td>30720000.0</td>\n",
       "      <td>17.884073</td>\n",
       "    </tr>\n",
       "    <tr>\n",
       "      <th>11</th>\n",
       "      <td>24128000.0</td>\n",
       "      <td>26814500.0</td>\n",
       "      <td>11.134367</td>\n",
       "    </tr>\n",
       "    <tr>\n",
       "      <th>12</th>\n",
       "      <td>23994000.0</td>\n",
       "      <td>25966500.0</td>\n",
       "      <td>8.220805</td>\n",
       "    </tr>\n",
       "    <tr>\n",
       "      <th>13</th>\n",
       "      <td>21138000.0</td>\n",
       "      <td>27594000.0</td>\n",
       "      <td>30.542152</td>\n",
       "    </tr>\n",
       "    <tr>\n",
       "      <th>14</th>\n",
       "      <td>25971000.0</td>\n",
       "      <td>28589500.0</td>\n",
       "      <td>10.082400</td>\n",
       "    </tr>\n",
       "    <tr>\n",
       "      <th>15</th>\n",
       "      <td>23298500.0</td>\n",
       "      <td>29356000.0</td>\n",
       "      <td>25.999528</td>\n",
       "    </tr>\n",
       "    <tr>\n",
       "      <th>16</th>\n",
       "      <td>29547000.0</td>\n",
       "      <td>32680000.0</td>\n",
       "      <td>10.603445</td>\n",
       "    </tr>\n",
       "    <tr>\n",
       "      <th>17</th>\n",
       "      <td>30889500.0</td>\n",
       "      <td>35876500.0</td>\n",
       "      <td>16.144645</td>\n",
       "    </tr>\n",
       "    <tr>\n",
       "      <th>18</th>\n",
       "      <td>30362500.0</td>\n",
       "      <td>34161500.0</td>\n",
       "      <td>12.512145</td>\n",
       "    </tr>\n",
       "    <tr>\n",
       "      <th>19</th>\n",
       "      <td>22526000.0</td>\n",
       "      <td>26508000.0</td>\n",
       "      <td>17.677351</td>\n",
       "    </tr>\n",
       "    <tr>\n",
       "      <th>20</th>\n",
       "      <td>18128000.0</td>\n",
       "      <td>20447500.0</td>\n",
       "      <td>12.795124</td>\n",
       "    </tr>\n",
       "    <tr>\n",
       "      <th>21</th>\n",
       "      <td>14023500.0</td>\n",
       "      <td>13845000.0</td>\n",
       "      <td>-1.272863</td>\n",
       "    </tr>\n",
       "    <tr>\n",
       "      <th>22</th>\n",
       "      <td>10572000.0</td>\n",
       "      <td>10660000.0</td>\n",
       "      <td>0.832387</td>\n",
       "    </tr>\n",
       "    <tr>\n",
       "      <th>23</th>\n",
       "      <td>8611500.0</td>\n",
       "      <td>6859500.0</td>\n",
       "      <td>-20.344888</td>\n",
       "    </tr>\n",
       "  </tbody>\n",
       "</table>\n",
       "</div>"
      ],
      "text/plain": [
       "            Total Income             IncomeDiff%\n",
       "isTreatment            0           1            \n",
       "hour                                            \n",
       "0              7337000.0   6781500.0   -7.571214\n",
       "1              2855500.0   2607000.0   -8.702504\n",
       "2              1449000.0    856500.0  -40.890269\n",
       "3               990000.0    368000.0  -62.828283\n",
       "4               767000.0    582500.0  -24.054759\n",
       "5              3029500.0   2266000.0  -25.202179\n",
       "6             13336500.0  13686000.0    2.620628\n",
       "7             24738000.0  29481000.0   19.172932\n",
       "8             29497000.0  31749500.0    7.636370\n",
       "9             28865000.0  30368000.0    5.206998\n",
       "10            26059500.0  30720000.0   17.884073\n",
       "11            24128000.0  26814500.0   11.134367\n",
       "12            23994000.0  25966500.0    8.220805\n",
       "13            21138000.0  27594000.0   30.542152\n",
       "14            25971000.0  28589500.0   10.082400\n",
       "15            23298500.0  29356000.0   25.999528\n",
       "16            29547000.0  32680000.0   10.603445\n",
       "17            30889500.0  35876500.0   16.144645\n",
       "18            30362500.0  34161500.0   12.512145\n",
       "19            22526000.0  26508000.0   17.677351\n",
       "20            18128000.0  20447500.0   12.795124\n",
       "21            14023500.0  13845000.0   -1.272863\n",
       "22            10572000.0  10660000.0    0.832387\n",
       "23             8611500.0   6859500.0  -20.344888"
      ]
     },
     "execution_count": 78,
     "metadata": {},
     "output_type": "execute_result"
    }
   ],
   "source": [
    "income_pivoted"
   ]
  },
  {
   "cell_type": "markdown",
   "metadata": {},
   "source": [
    "for hour 3, which income from treatment is 60 % less than control group each income is less than 1,000,000. but for hour 15 that treatment group has 26% higher income, difference between incomes are nearly 6,000,000. as mentioned above this shows that for hours with high demand of rides income from treatment group was higher and led to increase in final income (11%) at the end of day."
   ]
  },
  {
   "cell_type": "code",
   "execution_count": null,
   "metadata": {},
   "outputs": [],
   "source": []
  }
 ],
 "metadata": {
  "kernelspec": {
   "display_name": "Python 3",
   "language": "python",
   "name": "python3"
  },
  "language_info": {
   "codemirror_mode": {
    "name": "ipython",
    "version": 3
   },
   "file_extension": ".py",
   "mimetype": "text/x-python",
   "name": "python",
   "nbconvert_exporter": "python",
   "pygments_lexer": "ipython3",
   "version": "3.8.3"
  }
 },
 "nbformat": 4,
 "nbformat_minor": 4
}
